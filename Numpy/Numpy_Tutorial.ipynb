{
  "nbformat": 4,
  "nbformat_minor": 0,
  "metadata": {
    "colab": {
      "provenance": [],
      "include_colab_link": true
    },
    "kernelspec": {
      "name": "python3",
      "display_name": "Python 3"
    },
    "language_info": {
      "name": "python"
    }
  },
  "cells": [
    {
      "cell_type": "markdown",
      "metadata": {
        "id": "view-in-github",
        "colab_type": "text"
      },
      "source": [
        "<a href=\"https://colab.research.google.com/github/hru003/Learning/blob/main/Numpy/Numpy_Tutorial.ipynb\" target=\"_parent\"><img src=\"https://colab.research.google.com/assets/colab-badge.svg\" alt=\"Open In Colab\"/></a>"
      ]
    },
    {
      "cell_type": "markdown",
      "source": [
        "# Numpy Tutorial"
      ],
      "metadata": {
        "id": "UGo-dz3pAc6D"
      }
    },
    {
      "cell_type": "markdown",
      "source": [
        "### N-dimensional array"
      ],
      "metadata": {
        "id": "ESRLISAtAm2b"
      }
    },
    {
      "cell_type": "markdown",
      "source": [
        "![picture](https://www.tutorialspoint.com/numpy/images/ndarray.jpg)"
      ],
      "metadata": {
        "id": "fAyB9-mV_iOd"
      }
    },
    {
      "cell_type": "markdown",
      "source": [
        "numpy.array(object, dtype = None, copy = True, order = None, subok = False, ndmin = 0)"
      ],
      "metadata": {
        "id": "1Rm9zryiAUYb"
      }
    },
    {
      "cell_type": "markdown",
      "source": [
        "1-D array"
      ],
      "metadata": {
        "id": "b4RSbzmcBP9j"
      }
    },
    {
      "cell_type": "code",
      "source": [
        "import numpy as np\n",
        "a = np.array([1,2,3])\n",
        "print(a)"
      ],
      "metadata": {
        "colab": {
          "base_uri": "https://localhost:8080/"
        },
        "id": "w2degHBu_u2O",
        "outputId": "8b6be979-dd05-4a3a-dd5f-7409b49eb42c"
      },
      "execution_count": 1,
      "outputs": [
        {
          "output_type": "stream",
          "name": "stdout",
          "text": [
            "[1 2 3]\n"
          ]
        }
      ]
    },
    {
      "cell_type": "code",
      "source": [
        "a = np.array((4,5,6,7))\n",
        "print(a)"
      ],
      "metadata": {
        "id": "FjcdlXjsGWJj",
        "outputId": "f51fbcf7-8ab5-4104-fd47-47013f661769",
        "colab": {
          "base_uri": "https://localhost:8080/"
        }
      },
      "execution_count": 25,
      "outputs": [
        {
          "output_type": "stream",
          "name": "stdout",
          "text": [
            "[4 5 6 7]\n"
          ]
        }
      ]
    },
    {
      "cell_type": "markdown",
      "source": [
        "2-D array"
      ],
      "metadata": {
        "id": "_80WHN6bBRZs"
      }
    },
    {
      "cell_type": "code",
      "source": [
        "a = np.array([[1,2],[3,4],[5,6]])\n",
        "print(a)"
      ],
      "metadata": {
        "colab": {
          "base_uri": "https://localhost:8080/"
        },
        "id": "kGejW2_aAYxK",
        "outputId": "efdf70e8-2b2a-489e-e9f8-4d7f7c2d3f08"
      },
      "execution_count": 2,
      "outputs": [
        {
          "output_type": "stream",
          "name": "stdout",
          "text": [
            "[[1 2]\n",
            " [3 4]\n",
            " [5 6]]\n"
          ]
        }
      ]
    },
    {
      "cell_type": "markdown",
      "source": [
        "Minimum Dimension"
      ],
      "metadata": {
        "id": "BlT7Di2xA574"
      }
    },
    {
      "cell_type": "code",
      "source": [
        "a = np.array([1, 2, 3,4,5], ndmin = 2)\n",
        "print(a)"
      ],
      "metadata": {
        "colab": {
          "base_uri": "https://localhost:8080/"
        },
        "id": "_eaYK8S5AzVW",
        "outputId": "d361266f-d1d1-4866-b0eb-e5f117ea4251"
      },
      "execution_count": 3,
      "outputs": [
        {
          "output_type": "stream",
          "name": "stdout",
          "text": [
            "[[1 2 3 4 5]]\n"
          ]
        }
      ]
    },
    {
      "cell_type": "markdown",
      "source": [
        "Dtype"
      ],
      "metadata": {
        "id": "YosHZeauBMIL"
      }
    },
    {
      "cell_type": "code",
      "source": [
        "a = np.array([1, 2, 3], dtype = complex)\n",
        "print(a)"
      ],
      "metadata": {
        "colab": {
          "base_uri": "https://localhost:8080/"
        },
        "id": "liSya0APA71i",
        "outputId": "5d3f2c3d-b149-4346-d56f-94a8bba333e1"
      },
      "execution_count": 4,
      "outputs": [
        {
          "output_type": "stream",
          "name": "stdout",
          "text": [
            "[1.+0.j 2.+0.j 3.+0.j]\n"
          ]
        }
      ]
    },
    {
      "cell_type": "markdown",
      "source": [
        "Copy"
      ],
      "metadata": {
        "id": "NWzSUzXuEhsj"
      }
    },
    {
      "cell_type": "code",
      "source": [
        "a = np.array([1, 2, 3, 4])\n",
        "b = np.array(a, copy=False)\n",
        "print(a)\n",
        "print(b)\n",
        "b[0] = 5\n",
        "print(a)\n",
        "print(b)"
      ],
      "metadata": {
        "id": "fTlN1EwYDYf4",
        "outputId": "ebdedfce-6cfd-48bb-f900-44eecdacfcf3",
        "colab": {
          "base_uri": "https://localhost:8080/"
        }
      },
      "execution_count": 21,
      "outputs": [
        {
          "output_type": "stream",
          "name": "stdout",
          "text": [
            "[1 2 3 4]\n",
            "[1 2 3 4]\n",
            "[5 2 3 4]\n",
            "[5 2 3 4]\n"
          ]
        }
      ]
    },
    {
      "cell_type": "code",
      "source": [
        "a = np.array([1, 2, 3, 4])\n",
        "b = np.array(a, copy=True)\n",
        "print(a)\n",
        "print(b)\n",
        "b[0] = 5\n",
        "print(a)\n",
        "print(b)"
      ],
      "metadata": {
        "id": "YN8d8KlsExu2",
        "outputId": "66a8cbb6-ec11-46b3-f34b-9265275d1d27",
        "colab": {
          "base_uri": "https://localhost:8080/"
        }
      },
      "execution_count": 22,
      "outputs": [
        {
          "output_type": "stream",
          "name": "stdout",
          "text": [
            "[1 2 3 4]\n",
            "[1 2 3 4]\n",
            "[1 2 3 4]\n",
            "[5 2 3 4]\n"
          ]
        }
      ]
    },
    {
      "cell_type": "code",
      "source": [
        "a = np.array([1, 2, 3, 4])\n",
        "b = np.array(a, copy=True)\n",
        "print(a)\n",
        "print(b)\n",
        "a[0] = 5\n",
        "print(a)\n",
        "print(b)"
      ],
      "metadata": {
        "id": "dK1KQu-9GNxL",
        "outputId": "268a2df8-9e1e-4039-99d1-c6d9cb1b0af8",
        "colab": {
          "base_uri": "https://localhost:8080/"
        }
      },
      "execution_count": 23,
      "outputs": [
        {
          "output_type": "stream",
          "name": "stdout",
          "text": [
            "[1 2 3 4]\n",
            "[1 2 3 4]\n",
            "[5 2 3 4]\n",
            "[1 2 3 4]\n"
          ]
        }
      ]
    },
    {
      "cell_type": "markdown",
      "source": [
        "### Data Types"
      ],
      "metadata": {
        "id": "ubmnWzi-Jf_z"
      }
    },
    {
      "cell_type": "code",
      "source": [
        "dt = np.dtype(np.int32)\n",
        "print(dt)"
      ],
      "metadata": {
        "id": "oBj8sRWdGQnx",
        "outputId": "707c9492-1765-4e96-89d3-8b2c39c78792",
        "colab": {
          "base_uri": "https://localhost:8080/"
        }
      },
      "execution_count": 32,
      "outputs": [
        {
          "output_type": "stream",
          "name": "stdout",
          "text": [
            "int32\n"
          ]
        }
      ]
    },
    {
      "cell_type": "code",
      "source": [
        "dt = np.dtype([('age',np.int8)])\n",
        "print(dt)"
      ],
      "metadata": {
        "id": "p7K1bpEDJqHy",
        "outputId": "75e5e62f-c9c0-4ad3-ee11-ba712ec4a038",
        "colab": {
          "base_uri": "https://localhost:8080/"
        }
      },
      "execution_count": 33,
      "outputs": [
        {
          "output_type": "stream",
          "name": "stdout",
          "text": [
            "[('age', 'i1')]\n"
          ]
        }
      ]
    },
    {
      "cell_type": "code",
      "source": [
        "dt = np.dtype([('age',np.int8)])\n",
        "a = np.array([(10,),(20,),(30,)], dtype = dt)\n",
        "print(a)\n",
        "print(a['age'])"
      ],
      "metadata": {
        "id": "9x7Wb3tKJuxs",
        "outputId": "e890d58c-5c80-4491-fe1d-83d0d2eaeeb2",
        "colab": {
          "base_uri": "https://localhost:8080/"
        }
      },
      "execution_count": 36,
      "outputs": [
        {
          "output_type": "stream",
          "name": "stdout",
          "text": [
            "[(10,) (20,) (30,)]\n",
            "[10 20 30]\n"
          ]
        }
      ]
    },
    {
      "cell_type": "code",
      "source": [
        "student = np.dtype([('name','S20'), ('age', 'i1'), ('marks', 'f4')])\n",
        "a = np.array([('abc', 21, 50),('xyz', 18, 75)], dtype = student)\n",
        "print(a)"
      ],
      "metadata": {
        "id": "ZE9f5-4wJzbr",
        "outputId": "cf23b6ab-0db5-4326-c6e1-c24ed31e55cb",
        "colab": {
          "base_uri": "https://localhost:8080/"
        }
      },
      "execution_count": 37,
      "outputs": [
        {
          "output_type": "stream",
          "name": "stdout",
          "text": [
            "[(b'abc', 21, 50.) (b'xyz', 18, 75.)]\n"
          ]
        }
      ]
    },
    {
      "cell_type": "code",
      "source": [
        "print(a['marks'])"
      ],
      "metadata": {
        "id": "KJG7M65VJ_ie",
        "outputId": "5514bdb8-a6e1-408c-ab05-5dcbec153c0c",
        "colab": {
          "base_uri": "https://localhost:8080/"
        }
      },
      "execution_count": 38,
      "outputs": [
        {
          "output_type": "stream",
          "name": "stdout",
          "text": [
            "[50. 75.]\n"
          ]
        }
      ]
    },
    {
      "cell_type": "code",
      "source": [],
      "metadata": {
        "id": "5b-qXWloKClp"
      },
      "execution_count": null,
      "outputs": []
    }
  ]
}