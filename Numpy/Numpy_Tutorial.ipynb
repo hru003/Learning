{
  "nbformat": 4,
  "nbformat_minor": 0,
  "metadata": {
    "colab": {
      "provenance": [],
      "authorship_tag": "ABX9TyOaNJTSOfk9d2m94bravXn8",
      "include_colab_link": true
    },
    "kernelspec": {
      "name": "python3",
      "display_name": "Python 3"
    },
    "language_info": {
      "name": "python"
    }
  },
  "cells": [
    {
      "cell_type": "markdown",
      "metadata": {
        "id": "view-in-github",
        "colab_type": "text"
      },
      "source": [
        "<a href=\"https://colab.research.google.com/github/hru003/Learning/blob/main/Numpy/Numpy_Tutorial.ipynb\" target=\"_parent\"><img src=\"https://colab.research.google.com/assets/colab-badge.svg\" alt=\"Open In Colab\"/></a>"
      ]
    },
    {
      "cell_type": "markdown",
      "source": [
        "# Numpy Tutorial"
      ],
      "metadata": {
        "id": "UGo-dz3pAc6D"
      }
    },
    {
      "cell_type": "markdown",
      "source": [
        "## N-dimensional array"
      ],
      "metadata": {
        "id": "ESRLISAtAm2b"
      }
    },
    {
      "cell_type": "markdown",
      "source": [
        "![picture](https://www.tutorialspoint.com/numpy/images/ndarray.jpg)"
      ],
      "metadata": {
        "id": "fAyB9-mV_iOd"
      }
    },
    {
      "cell_type": "markdown",
      "source": [
        "numpy.array(object, dtype = None, copy = True, order = None, subok = False, ndmin = 0)"
      ],
      "metadata": {
        "id": "1Rm9zryiAUYb"
      }
    },
    {
      "cell_type": "markdown",
      "source": [
        "1-D array"
      ],
      "metadata": {
        "id": "b4RSbzmcBP9j"
      }
    },
    {
      "cell_type": "code",
      "source": [
        "import numpy as np\n",
        "a = np.array([1,2,3])\n",
        "print(a)"
      ],
      "metadata": {
        "colab": {
          "base_uri": "https://localhost:8080/"
        },
        "id": "w2degHBu_u2O",
        "outputId": "62bf5f22-d899-4697-dfcd-69466362e790"
      },
      "execution_count": 2,
      "outputs": [
        {
          "output_type": "stream",
          "name": "stdout",
          "text": [
            "[1 2 3]\n"
          ]
        }
      ]
    },
    {
      "cell_type": "markdown",
      "source": [
        "2-D array"
      ],
      "metadata": {
        "id": "_80WHN6bBRZs"
      }
    },
    {
      "cell_type": "code",
      "source": [
        "a = np.array([[1,2],[3,4],[5,6]])\n",
        "print(a)"
      ],
      "metadata": {
        "colab": {
          "base_uri": "https://localhost:8080/"
        },
        "id": "kGejW2_aAYxK",
        "outputId": "a23cfa4f-d58a-45fe-dc1e-7d6997b5b289"
      },
      "execution_count": 10,
      "outputs": [
        {
          "output_type": "stream",
          "name": "stdout",
          "text": [
            "[[1 2]\n",
            " [3 4]\n",
            " [5 6]]\n"
          ]
        }
      ]
    },
    {
      "cell_type": "markdown",
      "source": [
        "Minimum Dimension"
      ],
      "metadata": {
        "id": "BlT7Di2xA574"
      }
    },
    {
      "cell_type": "code",
      "source": [
        "a = np.array([1, 2, 3,4,5], ndmin = 2)\n",
        "print(a)"
      ],
      "metadata": {
        "colab": {
          "base_uri": "https://localhost:8080/"
        },
        "id": "_eaYK8S5AzVW",
        "outputId": "a3068469-0959-4087-bf06-69004a58e857"
      },
      "execution_count": 5,
      "outputs": [
        {
          "output_type": "stream",
          "name": "stdout",
          "text": [
            "[[1 2 3 4 5]]\n"
          ]
        }
      ]
    },
    {
      "cell_type": "markdown",
      "source": [
        "Dtype"
      ],
      "metadata": {
        "id": "YosHZeauBMIL"
      }
    },
    {
      "cell_type": "code",
      "source": [
        "a = np.array([1, 2, 3], dtype = complex)\n",
        "print(a)"
      ],
      "metadata": {
        "colab": {
          "base_uri": "https://localhost:8080/"
        },
        "id": "liSya0APA71i",
        "outputId": "4953f575-c18b-4e1c-96d6-3a31a110a6a8"
      },
      "execution_count": 8,
      "outputs": [
        {
          "output_type": "stream",
          "name": "stdout",
          "text": [
            "[1.+0.j 2.+0.j 3.+0.j]\n"
          ]
        }
      ]
    },
    {
      "cell_type": "code",
      "source": [],
      "metadata": {
        "id": "fTlN1EwYDYf4"
      },
      "execution_count": null,
      "outputs": []
    }
  ]
}