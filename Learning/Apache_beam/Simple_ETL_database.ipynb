{
  "nbformat": 4,
  "nbformat_minor": 0,
  "metadata": {
    "colab": {
      "provenance": [],
      "authorship_tag": "ABX9TyOt3jCCiiU6WdgJubGKitmY",
      "include_colab_link": true
    },
    "kernelspec": {
      "name": "python3",
      "display_name": "Python 3"
    },
    "language_info": {
      "name": "python"
    }
  },
  "cells": [
    {
      "cell_type": "markdown",
      "metadata": {
        "id": "view-in-github",
        "colab_type": "text"
      },
      "source": [
        "<a href=\"https://colab.research.google.com/github/hru003/Learning/blob/main/Learning/Apache_beam/Simple_ETL_database.ipynb\" target=\"_parent\"><img src=\"https://colab.research.google.com/assets/colab-badge.svg\" alt=\"Open In Colab\"/></a>"
      ]
    },
    {
      "cell_type": "code",
      "execution_count": 1,
      "metadata": {
        "id": "f7EyPlw4OVfx",
        "colab": {
          "base_uri": "https://localhost:8080/"
        },
        "outputId": "64b79d50-ad92-4b40-f822-0273f1ba07a7"
      },
      "outputs": [
        {
          "output_type": "stream",
          "name": "stdout",
          "text": [
            "\u001b[2K     \u001b[90m━━━━━━━━━━━━━━━━━━━━━━━━━━━━━━━━━━━━━━━━\u001b[0m \u001b[32m14.6/14.6 MB\u001b[0m \u001b[31m46.0 MB/s\u001b[0m eta \u001b[36m0:00:00\u001b[0m\n",
            "\u001b[2K     \u001b[90m━━━━━━━━━━━━━━━━━━━━━━━━━━━━━━━━━━━━━━━━\u001b[0m \u001b[32m89.7/89.7 kB\u001b[0m \u001b[31m10.5 MB/s\u001b[0m eta \u001b[36m0:00:00\u001b[0m\n",
            "\u001b[?25h  Preparing metadata (setup.py) ... \u001b[?25l\u001b[?25hdone\n",
            "\u001b[2K     \u001b[90m━━━━━━━━━━━━━━━━━━━━━━━━━━━━━━━━━━━━━━\u001b[0m \u001b[32m140.3/140.3 kB\u001b[0m \u001b[31m13.3 MB/s\u001b[0m eta \u001b[36m0:00:00\u001b[0m\n",
            "\u001b[2K     \u001b[90m━━━━━━━━━━━━━━━━━━━━━━━━━━━━━━━━━━━━━━\u001b[0m \u001b[32m152.0/152.0 kB\u001b[0m \u001b[31m18.0 MB/s\u001b[0m eta \u001b[36m0:00:00\u001b[0m\n",
            "\u001b[?25h  Preparing metadata (setup.py) ... \u001b[?25l\u001b[?25hdone\n",
            "\u001b[2K     \u001b[90m━━━━━━━━━━━━━━━━━━━━━━━━━━━━━━━━━━━━━━━━\u001b[0m \u001b[32m2.7/2.7 MB\u001b[0m \u001b[31m27.9 MB/s\u001b[0m eta \u001b[36m0:00:00\u001b[0m\n",
            "\u001b[2K     \u001b[90m━━━━━━━━━━━━━━━━━━━━━━━━━━━━━━━━━━━━━━━━\u001b[0m \u001b[32m43.4/43.4 kB\u001b[0m \u001b[31m2.2 MB/s\u001b[0m eta \u001b[36m0:00:00\u001b[0m\n",
            "\u001b[?25h  Preparing metadata (setup.py) ... \u001b[?25l\u001b[?25hdone\n",
            "\u001b[2K     \u001b[90m━━━━━━━━━━━━━━━━━━━━━━━━━━━━━━━━━━━━━━\u001b[0m \u001b[32m603.6/603.6 kB\u001b[0m \u001b[31m48.0 MB/s\u001b[0m eta \u001b[36m0:00:00\u001b[0m\n",
            "\u001b[2K     \u001b[90m━━━━━━━━━━━━━━━━━━━━━━━━━━━━━━━━━━━━━━━━\u001b[0m \u001b[32m2.7/2.7 MB\u001b[0m \u001b[31m75.3 MB/s\u001b[0m eta \u001b[36m0:00:00\u001b[0m\n",
            "\u001b[?25h  Preparing metadata (setup.py) ... \u001b[?25l\u001b[?25hdone\n",
            "\u001b[2K     \u001b[90m━━━━━━━━━━━━━━━━━━━━━━━━━━━━━━━━━━━━━━\u001b[0m \u001b[32m300.4/300.4 kB\u001b[0m \u001b[31m33.8 MB/s\u001b[0m eta \u001b[36m0:00:00\u001b[0m\n",
            "\u001b[?25h  Building wheel for crcmod (setup.py) ... \u001b[?25l\u001b[?25hdone\n",
            "  Building wheel for dill (setup.py) ... \u001b[?25l\u001b[?25hdone\n",
            "  Building wheel for hdfs (setup.py) ... \u001b[?25l\u001b[?25hdone\n",
            "  Building wheel for docopt (setup.py) ... \u001b[?25l\u001b[?25hdone\n"
          ]
        }
      ],
      "source": [
        "# Install apache-beam with pip.\n",
        "!pip install --quiet apache-beam"
      ]
    },
    {
      "cell_type": "code",
      "source": [
        "import apache_beam as beam\n",
        "import sqlite3\n",
        "from apache_beam.options.pipeline_options import PipelineOptions"
      ],
      "metadata": {
        "id": "NOzv7L0ZO0t3"
      },
      "execution_count": 2,
      "outputs": []
    },
    {
      "cell_type": "code",
      "source": [
        "!wget https://raw.githubusercontent.com/hru003/Learning/master/Apache_beam/data.csv"
      ],
      "metadata": {
        "id": "zcAOc38JWbnk",
        "outputId": "8ef0d960-11cc-48c9-e289-c889c627654e",
        "colab": {
          "base_uri": "https://localhost:8080/"
        }
      },
      "execution_count": 22,
      "outputs": [
        {
          "output_type": "stream",
          "name": "stdout",
          "text": [
            "--2023-08-11 11:33:20--  https://raw.githubusercontent.com/hru003/Learning/master/Apache_beam/data.csv\n",
            "Resolving raw.githubusercontent.com (raw.githubusercontent.com)... 185.199.108.133, 185.199.109.133, 185.199.110.133, ...\n",
            "Connecting to raw.githubusercontent.com (raw.githubusercontent.com)|185.199.108.133|:443... connected.\n",
            "HTTP request sent, awaiting response... 200 OK\n",
            "Length: 301 [text/plain]\n",
            "Saving to: ‘data.csv’\n",
            "\n",
            "\rdata.csv              0%[                    ]       0  --.-KB/s               \rdata.csv            100%[===================>]     301  --.-KB/s    in 0s      \n",
            "\n",
            "2023-08-11 11:33:20 (8.37 MB/s) - ‘data.csv’ saved [301/301]\n",
            "\n"
          ]
        }
      ]
    },
    {
      "cell_type": "code",
      "source": [
        "with beam.Pipeline() as pipeline:\n",
        "  (pipeline\n",
        "    | \"Read data\" >> beam.io.ReadFromText(\"data.csv\")\n",
        "    | \"Extract Lines\" >> beam.Map(lambda x: x.split(','))\n",
        "    | \"Convert Age to int\" >> beam.Map(lambda x: [x[0],int(x[1])])\n",
        "    | beam.Map(print)\n",
        "  )\n",
        "  pipeline.run()"
      ],
      "metadata": {
        "colab": {
          "base_uri": "https://localhost:8080/"
        },
        "id": "FzeWVozqS6Jq",
        "outputId": "e0c4fb8f-d3a5-40fc-b044-5ee1961fc2c2"
      },
      "execution_count": 31,
      "outputs": [
        {
          "output_type": "stream",
          "name": "stdout",
          "text": [
            "['John', 22]\n",
            "['Mary', 28]\n",
            "['Peter', 33]\n",
            "['Jane', 37]\n",
            "['David', 41]\n",
            "['Sally', 45]\n",
            "['Michael', 23]\n",
            "['Susan', 29]\n",
            "['Richard', 35]\n",
            "['Elizabeth', 39]\n",
            "['Thomas', 43]\n",
            "['Jennifer', 47]\n",
            "['Charles', 24]\n",
            "['Sarah', 30]\n",
            "['William', 36]\n",
            "['Christine', 40]\n",
            "['Christopher', 44]\n",
            "['Nancy', 25]\n",
            "['Daniel', 31]\n",
            "['Emily', 37]\n",
            "['George', 41]\n",
            "['Ethan', 45]\n",
            "['Jessica', 26]\n",
            "['Alexander', 32]\n",
            "['Megan', 38]\n",
            "['Mark', 42]\n",
            "['Nicole', 46]\n",
            "['John', 22]\n",
            "['Mary', 28]\n",
            "['Peter', 33]\n",
            "['Jane', 37]\n",
            "['David', 41]\n",
            "['Sally', 45]\n",
            "['Michael', 23]\n",
            "['Susan', 29]\n",
            "['Richard', 35]\n",
            "['Elizabeth', 39]\n",
            "['Thomas', 43]\n",
            "['Jennifer', 47]\n",
            "['Charles', 24]\n",
            "['Sarah', 30]\n",
            "['William', 36]\n",
            "['Christine', 40]\n",
            "['Christopher', 44]\n",
            "['Nancy', 25]\n",
            "['Daniel', 31]\n",
            "['Emily', 37]\n",
            "['George', 41]\n",
            "['Ethan', 45]\n",
            "['Jessica', 26]\n",
            "['Alexander', 32]\n",
            "['Megan', 38]\n",
            "['Mark', 42]\n",
            "['Nicole', 46]\n"
          ]
        }
      ]
    },
    {
      "cell_type": "code",
      "source": [
        "with beam.Pipeline() as pipeline:\n",
        "  (pipeline\n",
        "    | \"Read data\" >> beam.io.ReadFromText(\"data.csv\")\n",
        "    | \"Extract Lines\" >> beam.Map(lambda x: x.split(','))\n",
        "    | \"Convert Age to int\" >> beam.Map(lambda x: [x[0],int(x[1])])\n",
        "    | \"Filter records with age less than 35\" >> beam.Filter(lambda x:x[1] < 35)\n",
        "    | beam.Map(print)\n",
        "  )\n",
        "  pipeline.run()"
      ],
      "metadata": {
        "id": "SbBI9QC4W06V",
        "outputId": "17eae62a-0545-4be0-eb6d-b5750b1b4c4a",
        "colab": {
          "base_uri": "https://localhost:8080/"
        }
      },
      "execution_count": 33,
      "outputs": [
        {
          "output_type": "stream",
          "name": "stdout",
          "text": [
            "['John', 22]\n",
            "['Mary', 28]\n",
            "['Peter', 33]\n",
            "['Michael', 23]\n",
            "['Susan', 29]\n",
            "['Charles', 24]\n",
            "['Sarah', 30]\n",
            "['Nancy', 25]\n",
            "['Daniel', 31]\n",
            "['Jessica', 26]\n",
            "['Alexander', 32]\n",
            "['John', 22]\n",
            "['Mary', 28]\n",
            "['Peter', 33]\n",
            "['Michael', 23]\n",
            "['Susan', 29]\n",
            "['Charles', 24]\n",
            "['Sarah', 30]\n",
            "['Nancy', 25]\n",
            "['Daniel', 31]\n",
            "['Jessica', 26]\n",
            "['Alexander', 32]\n"
          ]
        }
      ]
    },
    {
      "cell_type": "code",
      "source": [
        "conn = sqlite3.connect(\"my_database.sqlite3\")\n",
        "c = conn.cursor()\n",
        "c.execute(\"CREATE TABLE IF NOT EXISTS {} (id INTEGER PRIMARY KEY, name TEXT, age INTEGER)\".format('AGE_Lesser_35'))\n",
        "c.execute(\"CREATE TABLE IF NOT EXISTS {} (id INTEGER PRIMARY KEY, name TEXT, age INTEGER)\".format('AGE_Greater_35'))\n",
        "conn.commit()"
      ],
      "metadata": {
        "id": "JEWpM1iaU8Iw"
      },
      "execution_count": 13,
      "outputs": []
    },
    {
      "cell_type": "code",
      "source": [
        "def write_data(data):\n",
        "  c.execute(\"INSERT INTO {} (name, age) VALUES (?, ?)\".format('AGE_Lesser_35'), data)\n",
        "  conn.commit()\n",
        "\n",
        "with beam.Pipeline() as pipeline:\n",
        "  (pipeline\n",
        "    | \"Read data\" >> beam.io.ReadFromText(\"data.csv\")\n",
        "    | \"Extract Lines\" >> beam.Map(lambda x: x.split(','))\n",
        "    | \"Convert Age to int\" >> beam.Map(lambda x: [x[0],int(x[1])])\n",
        "    | \"Filter records with age less than 35\" >> beam.Filter(lambda x:x[1] < 35)\n",
        "    | \"Write data\" >> beam.Map(write_data)\n",
        "  )\n",
        "  pipeline.run()"
      ],
      "metadata": {
        "id": "2H9DVEC1ay7A"
      },
      "execution_count": 51,
      "outputs": []
    },
    {
      "cell_type": "code",
      "source": [
        "c.execute(\"SELECT * FROM {}\".format('AGE_Lesser_35'))\n",
        "rows = c.fetchall()\n",
        "for row in rows:\n",
        "  print(row)"
      ],
      "metadata": {
        "colab": {
          "base_uri": "https://localhost:8080/"
        },
        "id": "wj3egT5QTCrJ",
        "outputId": "97680a0f-1bdf-4a49-d4a5-97d54ef4abdb"
      },
      "execution_count": 52,
      "outputs": [
        {
          "output_type": "stream",
          "name": "stdout",
          "text": [
            "(1, 'John', 22)\n",
            "(2, 'Mary', 28)\n",
            "(3, 'Peter', 33)\n",
            "(4, 'Michael', 23)\n",
            "(5, 'Susan', 29)\n",
            "(6, 'Charles', 24)\n",
            "(7, 'Sarah', 30)\n",
            "(8, 'Nancy', 25)\n",
            "(9, 'Daniel', 31)\n",
            "(10, 'Jessica', 26)\n",
            "(11, 'Alexander', 32)\n",
            "(12, 'John', 22)\n",
            "(13, 'Mary', 28)\n",
            "(14, 'Peter', 33)\n",
            "(15, 'Michael', 23)\n",
            "(16, 'Susan', 29)\n",
            "(17, 'Charles', 24)\n",
            "(18, 'Sarah', 30)\n",
            "(19, 'Nancy', 25)\n",
            "(20, 'Daniel', 31)\n",
            "(21, 'Jessica', 26)\n",
            "(22, 'Alexander', 32)\n"
          ]
        }
      ]
    },
    {
      "cell_type": "code",
      "source": [
        "def write_data(data):\n",
        "  c.execute(\"INSERT INTO {} (name, age) VALUES (?, ?)\".format('AGE_Greater_35'), data)\n",
        "  conn.commit()\n",
        "\n",
        "with beam.Pipeline() as pipeline:\n",
        "  (pipeline\n",
        "    | \"Read data\" >> beam.io.ReadFromText(\"data.csv\")\n",
        "    | \"Extract Lines\" >> beam.Map(lambda x: x.split(','))\n",
        "    | \"Convert Age to int\" >> beam.Map(lambda x: [x[0],int(x[1])])\n",
        "    | \"Filter records with age less than 35\" >> beam.Filter(lambda x:x[1] > 35)\n",
        "    | \"Write data\" >> beam.Map(write_data)\n",
        "  )\n",
        "  pipeline.run()"
      ],
      "metadata": {
        "id": "QicWamrudX_y"
      },
      "execution_count": 53,
      "outputs": []
    },
    {
      "cell_type": "code",
      "source": [
        "c.execute(\"SELECT * FROM {}\".format('AGE_Greater_35'))\n",
        "rows = c.fetchall()\n",
        "for row in rows:\n",
        "  print(row)"
      ],
      "metadata": {
        "id": "4_U-Es7PdkNA",
        "outputId": "53f062f2-cdd7-41b1-bd12-6481740f60d0",
        "colab": {
          "base_uri": "https://localhost:8080/"
        }
      },
      "execution_count": 54,
      "outputs": [
        {
          "output_type": "stream",
          "name": "stdout",
          "text": [
            "(1, 'Jane', 37)\n",
            "(2, 'David', 41)\n",
            "(3, 'Sally', 45)\n",
            "(4, 'Elizabeth', 39)\n",
            "(5, 'Thomas', 43)\n",
            "(6, 'Jennifer', 47)\n",
            "(7, 'William', 36)\n",
            "(8, 'Christine', 40)\n",
            "(9, 'Christopher', 44)\n",
            "(10, 'Emily', 37)\n",
            "(11, 'George', 41)\n",
            "(12, 'Ethan', 45)\n",
            "(13, 'Megan', 38)\n",
            "(14, 'Mark', 42)\n",
            "(15, 'Nicole', 46)\n",
            "(16, 'Jane', 37)\n",
            "(17, 'David', 41)\n",
            "(18, 'Sally', 45)\n",
            "(19, 'Elizabeth', 39)\n",
            "(20, 'Thomas', 43)\n",
            "(21, 'Jennifer', 47)\n",
            "(22, 'William', 36)\n",
            "(23, 'Christine', 40)\n",
            "(24, 'Christopher', 44)\n",
            "(25, 'Emily', 37)\n",
            "(26, 'George', 41)\n",
            "(27, 'Ethan', 45)\n",
            "(28, 'Megan', 38)\n",
            "(29, 'Mark', 42)\n",
            "(30, 'Nicole', 46)\n"
          ]
        }
      ]
    },
    {
      "cell_type": "code",
      "source": [],
      "metadata": {
        "id": "LWqrS7_xdmug"
      },
      "execution_count": null,
      "outputs": []
    }
  ]
}